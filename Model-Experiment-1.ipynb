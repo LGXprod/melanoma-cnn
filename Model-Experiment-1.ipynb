{
 "cells": [
  {
   "cell_type": "markdown",
   "metadata": {},
   "source": [
    "# Experimenting with the NASnet CNN Architecture to classify melanoma images as Benign or Malignant\n",
    "\n",
    "This was developed using Juypter Notebooks on my local computer, not on Google Colab. This was because Google Drive could not handle the large number of files in the training and testing sets and was causing a lot of instability."
   ]
  },
  {
   "cell_type": "markdown",
   "metadata": {},
   "source": [
    "## Experiment 1\n",
    "- No data augmentation (besides pixel normalisation)\n",
    "- Transfer learning using imagenet\n",
    "- Batch size 20\n",
    "- 50 epoches"
   ]
  },
  {
   "cell_type": "code",
   "execution_count": 16,
   "metadata": {},
   "outputs": [],
   "source": [
    "import pandas as pd\n",
    "import numpy as np\n",
    "import matplotlib.pyplot as plt\n",
    "import seaborn as sns\n",
    "\n",
    "from sklearn.metrics import confusion_matrix\n",
    "from sklearn import metrics\n",
    "\n",
    "import tensorflow as tf\n",
    "from tensorflow.keras.preprocessing.image import ImageDataGenerator\n",
    "from tensorflow.keras.callbacks import ModelCheckpoint\n",
    "from tensorflow.keras.applications import NASNetMobile\n",
    "from tensorflow.keras.models import load_model"
   ]
  },
  {
   "cell_type": "code",
   "execution_count": 17,
   "metadata": {},
   "outputs": [],
   "source": [
    "train_datagen = ImageDataGenerator(rescale=1./255)\n",
    "validation_datagen = ImageDataGenerator(rescale=1./255)\n",
    "test_datagen = ImageDataGenerator(rescale=1./255)"
   ]
  },
  {
   "cell_type": "code",
   "execution_count": 18,
   "metadata": {},
   "outputs": [],
   "source": [
    "batch_size = 20"
   ]
  },
  {
   "cell_type": "code",
   "execution_count": 19,
   "metadata": {},
   "outputs": [
    {
     "name": "stdout",
     "output_type": "stream",
     "text": [
      "Found 700 images belonging to 2 classes.\n"
     ]
    }
   ],
   "source": [
    "train_generator = train_datagen.flow_from_directory(\n",
    "    \"./train\",\n",
    "    target_size=(224, 224),\n",
    "    batch_size=batch_size,\n",
    "    class_mode=\"binary\"\n",
    ")"
   ]
  },
  {
   "cell_type": "code",
   "execution_count": 20,
   "metadata": {},
   "outputs": [
    {
     "name": "stdout",
     "output_type": "stream",
     "text": [
      "Found 234 images belonging to 2 classes.\n"
     ]
    }
   ],
   "source": [
    "validation_generator = validation_datagen.flow_from_directory(\n",
    "    \"./validation\",\n",
    "    target_size=(224, 224),\n",
    "    batch_size=batch_size,\n",
    "    class_mode=\"binary\"\n",
    ")"
   ]
  },
  {
   "cell_type": "code",
   "execution_count": 21,
   "metadata": {},
   "outputs": [
    {
     "name": "stdout",
     "output_type": "stream",
     "text": [
      "Found 234 images belonging to 2 classes.\n"
     ]
    }
   ],
   "source": [
    "test_generator = test_datagen.flow_from_directory(\n",
    "    \"./test\",\n",
    "    target_size=(224, 224),\n",
    "    batch_size=batch_size,\n",
    "    class_mode=None,\n",
    "    shuffle=False\n",
    ")"
   ]
  },
  {
   "cell_type": "code",
   "execution_count": 7,
   "metadata": {},
   "outputs": [],
   "source": [
    "nas_net = NASNetMobile(\n",
    "    weights=\"imagenet\", \n",
    "    include_top=False, \n",
    "    input_shape=(224, 224, 3),\n",
    "    pooling=\"max\"\n",
    ")"
   ]
  },
  {
   "cell_type": "code",
   "execution_count": 69,
   "metadata": {},
   "outputs": [],
   "source": [
    "model = tf.keras.models.Sequential()\n",
    "model.add(nas_net)\n",
    "model.add(tf.keras.layers.Dense(units=224, activation='relu'))\n",
    "model.add(tf.keras.layers.Dense(units=224, activation='relu'))\n",
    "model.add(tf.keras.layers.Dense(units=1, activation='sigmoid'))"
   ]
  },
  {
   "cell_type": "code",
   "execution_count": 70,
   "metadata": {},
   "outputs": [
    {
     "name": "stdout",
     "output_type": "stream",
     "text": [
      "Model: \"sequential_4\"\n",
      "_________________________________________________________________\n",
      "Layer (type)                 Output Shape              Param #   \n",
      "=================================================================\n",
      "NASNet (Functional)          (None, 1056)              4269716   \n",
      "_________________________________________________________________\n",
      "dense_12 (Dense)             (None, 224)               236768    \n",
      "_________________________________________________________________\n",
      "dense_13 (Dense)             (None, 224)               50400     \n",
      "_________________________________________________________________\n",
      "dense_14 (Dense)             (None, 1)                 225       \n",
      "=================================================================\n",
      "Total params: 4,557,109\n",
      "Trainable params: 4,520,371\n",
      "Non-trainable params: 36,738\n",
      "_________________________________________________________________\n"
     ]
    }
   ],
   "source": [
    "model.summary()"
   ]
  },
  {
   "cell_type": "code",
   "execution_count": 71,
   "metadata": {},
   "outputs": [],
   "source": [
    "model.compile(\n",
    "    loss='binary_crossentropy',\n",
    "    optimizer=tf.keras.optimizers.Adam(lr=1e-4),\n",
    "    metrics=['acc']\n",
    ")"
   ]
  },
  {
   "cell_type": "code",
   "execution_count": 16,
   "metadata": {},
   "outputs": [],
   "source": [
    "checkpoint_directory = \"./saved_models/weights-{epoch:02d}-{val_acc:.2f}.hdf5\"\n",
    "checkpoint = ModelCheckpoint(checkpoint_directory, monitor=\"val_acc\", verbose=1, save_best_only=\"max\")\n",
    "callbacks_list = [checkpoint]"
   ]
  },
  {
   "cell_type": "code",
   "execution_count": 16,
   "metadata": {},
   "outputs": [
    {
     "name": "stdout",
     "output_type": "stream",
     "text": [
      "Epoch 1/50\n",
      "35/35 - 139s - loss: 0.7176 - acc: 0.6314 - val_loss: 0.7308 - val_acc: 0.6068\n",
      "\n",
      "Epoch 00001: val_acc improved from -inf to 0.60684, saving model to ./saved_models\\weights-01-0.61.hdf5\n",
      "Epoch 2/50\n",
      "35/35 - 104s - loss: 0.3760 - acc: 0.8343 - val_loss: 0.6594 - val_acc: 0.6368\n",
      "\n",
      "Epoch 00002: val_acc improved from 0.60684 to 0.63675, saving model to ./saved_models\\weights-02-0.64.hdf5\n",
      "Epoch 3/50\n",
      "35/35 - 103s - loss: 0.2477 - acc: 0.9086 - val_loss: 0.6518 - val_acc: 0.6752\n",
      "\n",
      "Epoch 00003: val_acc improved from 0.63675 to 0.67521, saving model to ./saved_models\\weights-03-0.68.hdf5\n",
      "Epoch 4/50\n",
      "35/35 - 104s - loss: 0.1526 - acc: 0.9400 - val_loss: 0.7152 - val_acc: 0.6453\n",
      "\n",
      "Epoch 00004: val_acc did not improve from 0.67521\n",
      "Epoch 5/50\n",
      "35/35 - 104s - loss: 0.0983 - acc: 0.9757 - val_loss: 0.6850 - val_acc: 0.6709\n",
      "\n",
      "Epoch 00005: val_acc did not improve from 0.67521\n",
      "Epoch 6/50\n",
      "35/35 - 104s - loss: 0.0537 - acc: 0.9843 - val_loss: 0.7294 - val_acc: 0.6709\n",
      "\n",
      "Epoch 00006: val_acc did not improve from 0.67521\n",
      "Epoch 7/50\n",
      "35/35 - 106s - loss: 0.0432 - acc: 0.9871 - val_loss: 0.6939 - val_acc: 0.6923\n",
      "\n",
      "Epoch 00007: val_acc improved from 0.67521 to 0.69231, saving model to ./saved_models\\weights-07-0.69.hdf5\n",
      "Epoch 8/50\n",
      "35/35 - 105s - loss: 0.0278 - acc: 0.9929 - val_loss: 0.7016 - val_acc: 0.6966\n",
      "\n",
      "Epoch 00008: val_acc improved from 0.69231 to 0.69658, saving model to ./saved_models\\weights-08-0.70.hdf5\n",
      "Epoch 9/50\n",
      "35/35 - 106s - loss: 0.0339 - acc: 0.9943 - val_loss: 0.7225 - val_acc: 0.6752\n",
      "\n",
      "Epoch 00009: val_acc did not improve from 0.69658\n",
      "Epoch 10/50\n",
      "35/35 - 104s - loss: 0.0541 - acc: 0.9800 - val_loss: 0.7507 - val_acc: 0.6624\n",
      "\n",
      "Epoch 00010: val_acc did not improve from 0.69658\n",
      "Epoch 11/50\n",
      "35/35 - 104s - loss: 0.0399 - acc: 0.9871 - val_loss: 0.9903 - val_acc: 0.6453\n",
      "\n",
      "Epoch 00011: val_acc did not improve from 0.69658\n",
      "Epoch 12/50\n",
      "35/35 - 104s - loss: 0.0325 - acc: 0.9886 - val_loss: 0.9477 - val_acc: 0.6282\n",
      "\n",
      "Epoch 00012: val_acc did not improve from 0.69658\n",
      "Epoch 13/50\n",
      "35/35 - 103s - loss: 0.0414 - acc: 0.9843 - val_loss: 0.8554 - val_acc: 0.6624\n",
      "\n",
      "Epoch 00013: val_acc did not improve from 0.69658\n",
      "Epoch 14/50\n",
      "35/35 - 103s - loss: 0.0372 - acc: 0.9871 - val_loss: 0.9667 - val_acc: 0.6667\n",
      "\n",
      "Epoch 00014: val_acc did not improve from 0.69658\n",
      "Epoch 15/50\n",
      "35/35 - 105s - loss: 0.0318 - acc: 0.9914 - val_loss: 0.8736 - val_acc: 0.6624\n",
      "\n",
      "Epoch 00015: val_acc did not improve from 0.69658\n",
      "Epoch 16/50\n",
      "35/35 - 105s - loss: 0.0478 - acc: 0.9843 - val_loss: 0.9881 - val_acc: 0.6752\n",
      "\n",
      "Epoch 00016: val_acc did not improve from 0.69658\n",
      "Epoch 17/50\n",
      "35/35 - 104s - loss: 0.0381 - acc: 0.9900 - val_loss: 1.1756 - val_acc: 0.6453\n",
      "\n",
      "Epoch 00017: val_acc did not improve from 0.69658\n",
      "Epoch 18/50\n",
      "35/35 - 109s - loss: 0.0256 - acc: 0.9914 - val_loss: 1.2929 - val_acc: 0.6111\n",
      "\n",
      "Epoch 00018: val_acc did not improve from 0.69658\n",
      "Epoch 19/50\n",
      "35/35 - 105s - loss: 0.0240 - acc: 0.9971 - val_loss: 1.2535 - val_acc: 0.6282\n",
      "\n",
      "Epoch 00019: val_acc did not improve from 0.69658\n",
      "Epoch 20/50\n",
      "35/35 - 110s - loss: 0.0131 - acc: 0.9957 - val_loss: 1.0783 - val_acc: 0.6410\n",
      "\n",
      "Epoch 00020: val_acc did not improve from 0.69658\n",
      "Epoch 21/50\n",
      "35/35 - 108s - loss: 0.0225 - acc: 0.9914 - val_loss: 0.9637 - val_acc: 0.6496\n",
      "\n",
      "Epoch 00021: val_acc did not improve from 0.69658\n",
      "Epoch 22/50\n",
      "35/35 - 105s - loss: 0.0176 - acc: 0.9943 - val_loss: 1.0728 - val_acc: 0.6325\n",
      "\n",
      "Epoch 00022: val_acc did not improve from 0.69658\n",
      "Epoch 23/50\n",
      "35/35 - 105s - loss: 0.0076 - acc: 0.9971 - val_loss: 1.0230 - val_acc: 0.6624\n",
      "\n",
      "Epoch 00023: val_acc did not improve from 0.69658\n",
      "Epoch 24/50\n",
      "35/35 - 109s - loss: 0.0050 - acc: 1.0000 - val_loss: 1.0611 - val_acc: 0.6496\n",
      "\n",
      "Epoch 00024: val_acc did not improve from 0.69658\n",
      "Epoch 25/50\n",
      "35/35 - 108s - loss: 0.0077 - acc: 0.9986 - val_loss: 1.1054 - val_acc: 0.6795\n",
      "\n",
      "Epoch 00025: val_acc did not improve from 0.69658\n",
      "Epoch 26/50\n",
      "35/35 - 103s - loss: 0.0030 - acc: 1.0000 - val_loss: 1.3329 - val_acc: 0.6410\n",
      "\n",
      "Epoch 00026: val_acc did not improve from 0.69658\n",
      "Epoch 27/50\n",
      "35/35 - 102s - loss: 0.0021 - acc: 1.0000 - val_loss: 1.1894 - val_acc: 0.6838\n",
      "\n",
      "Epoch 00027: val_acc did not improve from 0.69658\n",
      "Epoch 28/50\n",
      "35/35 - 102s - loss: 0.0081 - acc: 0.9971 - val_loss: 1.3191 - val_acc: 0.6496\n",
      "\n",
      "Epoch 00028: val_acc did not improve from 0.69658\n",
      "Epoch 29/50\n",
      "35/35 - 102s - loss: 0.0032 - acc: 1.0000 - val_loss: 1.2643 - val_acc: 0.6538\n",
      "\n",
      "Epoch 00029: val_acc did not improve from 0.69658\n",
      "Epoch 30/50\n",
      "35/35 - 102s - loss: 0.0028 - acc: 1.0000 - val_loss: 1.2201 - val_acc: 0.6496\n",
      "\n",
      "Epoch 00030: val_acc did not improve from 0.69658\n",
      "Epoch 31/50\n",
      "35/35 - 102s - loss: 0.0062 - acc: 0.9957 - val_loss: 1.4786 - val_acc: 0.6709\n",
      "\n",
      "Epoch 00031: val_acc did not improve from 0.69658\n",
      "Epoch 32/50\n",
      "35/35 - 102s - loss: 0.0147 - acc: 0.9957 - val_loss: 1.5637 - val_acc: 0.6368\n",
      "\n",
      "Epoch 00032: val_acc did not improve from 0.69658\n",
      "Epoch 33/50\n",
      "35/35 - 102s - loss: 0.0252 - acc: 0.9886 - val_loss: 1.1688 - val_acc: 0.6752\n",
      "\n",
      "Epoch 00033: val_acc did not improve from 0.69658\n",
      "Epoch 34/50\n",
      "35/35 - 102s - loss: 0.0350 - acc: 0.9871 - val_loss: 1.0655 - val_acc: 0.6197\n",
      "\n",
      "Epoch 00034: val_acc did not improve from 0.69658\n",
      "Epoch 35/50\n",
      "35/35 - 102s - loss: 0.0425 - acc: 0.9814 - val_loss: 1.2775 - val_acc: 0.6282\n",
      "\n",
      "Epoch 00035: val_acc did not improve from 0.69658\n",
      "Epoch 36/50\n",
      "35/35 - 102s - loss: 0.0324 - acc: 0.9857 - val_loss: 1.0953 - val_acc: 0.6966\n",
      "\n",
      "Epoch 00036: val_acc did not improve from 0.69658\n",
      "Epoch 37/50\n",
      "35/35 - 102s - loss: 0.0190 - acc: 0.9886 - val_loss: 1.2962 - val_acc: 0.6667\n",
      "\n",
      "Epoch 00037: val_acc did not improve from 0.69658\n",
      "Epoch 38/50\n",
      "35/35 - 102s - loss: 0.0532 - acc: 0.9857 - val_loss: 1.1079 - val_acc: 0.6453\n",
      "\n",
      "Epoch 00038: val_acc did not improve from 0.69658\n",
      "Epoch 39/50\n",
      "35/35 - 103s - loss: 0.0261 - acc: 0.9929 - val_loss: 1.0202 - val_acc: 0.6880\n",
      "\n",
      "Epoch 00039: val_acc did not improve from 0.69658\n",
      "Epoch 40/50\n",
      "35/35 - 102s - loss: 0.0354 - acc: 0.9843 - val_loss: 1.0018 - val_acc: 0.6795\n",
      "\n",
      "Epoch 00040: val_acc did not improve from 0.69658\n",
      "Epoch 41/50\n",
      "35/35 - 102s - loss: 0.0256 - acc: 0.9943 - val_loss: 1.4165 - val_acc: 0.6068\n",
      "\n",
      "Epoch 00041: val_acc did not improve from 0.69658\n",
      "Epoch 42/50\n",
      "35/35 - 102s - loss: 0.0278 - acc: 0.9914 - val_loss: 1.0862 - val_acc: 0.6795\n",
      "\n",
      "Epoch 00042: val_acc did not improve from 0.69658\n",
      "Epoch 43/50\n",
      "35/35 - 103s - loss: 0.0301 - acc: 0.9914 - val_loss: 1.1334 - val_acc: 0.7094\n",
      "\n",
      "Epoch 00043: val_acc improved from 0.69658 to 0.70940, saving model to ./saved_models\\weights-43-0.71.hdf5\n",
      "Epoch 44/50\n",
      "35/35 - 102s - loss: 0.0458 - acc: 0.9871 - val_loss: 1.0021 - val_acc: 0.6838\n",
      "\n",
      "Epoch 00044: val_acc did not improve from 0.70940\n",
      "Epoch 45/50\n",
      "35/35 - 102s - loss: 0.0321 - acc: 0.9886 - val_loss: 1.0846 - val_acc: 0.6838\n",
      "\n",
      "Epoch 00045: val_acc did not improve from 0.70940\n",
      "Epoch 46/50\n",
      "35/35 - 102s - loss: 0.0092 - acc: 0.9957 - val_loss: 1.0353 - val_acc: 0.6966\n",
      "\n",
      "Epoch 00046: val_acc did not improve from 0.70940\n",
      "Epoch 47/50\n",
      "35/35 - 102s - loss: 0.0063 - acc: 1.0000 - val_loss: 1.1609 - val_acc: 0.6709\n",
      "\n",
      "Epoch 00047: val_acc did not improve from 0.70940\n",
      "Epoch 48/50\n",
      "35/35 - 102s - loss: 0.0054 - acc: 0.9986 - val_loss: 1.1444 - val_acc: 0.6709\n",
      "\n",
      "Epoch 00048: val_acc did not improve from 0.70940\n",
      "Epoch 49/50\n",
      "35/35 - 102s - loss: 0.0029 - acc: 0.9986 - val_loss: 1.1156 - val_acc: 0.6966\n",
      "\n",
      "Epoch 00049: val_acc did not improve from 0.70940\n",
      "Epoch 50/50\n",
      "35/35 - 102s - loss: 0.0027 - acc: 0.9986 - val_loss: 1.0944 - val_acc: 0.6838\n",
      "\n",
      "Epoch 00050: val_acc did not improve from 0.70940\n"
     ]
    }
   ],
   "source": [
    "history = model.fit(\n",
    "    train_generator,\n",
    "    validation_data=validation_generator,\n",
    "    epochs = 50,\n",
    "    verbose=2,\n",
    "    callbacks=callbacks_list\n",
    ")"
   ]
  },
  {
   "cell_type": "code",
   "execution_count": 8,
   "metadata": {},
   "outputs": [],
   "source": [
    "def plotAccAndVal(history):\n",
    "    acc = history.history['acc']\n",
    "    val_acc = history.history['val_acc']\n",
    "    loss = history.history['loss']\n",
    "    val_loss = history.history['val_loss']\n",
    "\n",
    "    epochs = range(len(acc))\n",
    "\n",
    "    plt.plot(epochs, acc, 'bo', label='Training accuracy')\n",
    "    plt.plot(epochs, val_acc, 'b', label='Validation accuracy')\n",
    "    plt.title('Training and validation accuracy')\n",
    "\n",
    "    plt.figure()\n",
    "\n",
    "    plt.plot(epochs, loss, 'bo', label='Training Loss')\n",
    "    plt.plot(epochs, val_loss, 'b', label='Validation Loss')\n",
    "    plt.title('Training and validation loss')\n",
    "    plt.legend()\n",
    "\n",
    "    plt.show()"
   ]
  },
  {
   "cell_type": "code",
   "execution_count": 18,
   "metadata": {},
   "outputs": [],
   "source": [
    "model.save(\"experiment1.h5\")"
   ]
  },
  {
   "cell_type": "code",
   "execution_count": 22,
   "metadata": {},
   "outputs": [],
   "source": [
    "saved_model = load_model(\"./saved_models/experiment_1/weights-43-0.71.hdf5\")"
   ]
  },
  {
   "cell_type": "code",
   "execution_count": 23,
   "metadata": {},
   "outputs": [],
   "source": [
    "probabilities = saved_model.predict(test_generator, 234)"
   ]
  },
  {
   "cell_type": "code",
   "execution_count": 24,
   "metadata": {},
   "outputs": [],
   "source": [
    "y_true = np.array([0] * 117 + [1] * 117)\n",
    "y_pred = probabilities > 0.5\n",
    "\n",
    "confusionMatrix = confusion_matrix(y_true, y_pred)"
   ]
  },
  {
   "cell_type": "code",
   "execution_count": 25,
   "metadata": {},
   "outputs": [],
   "source": [
    "def visualiseConfusionMatrix(confusionMatrix, title):\n",
    "    plt.figure(figsize=(5, 5))\n",
    "    sns.heatmap(\n",
    "        confusionMatrix, \n",
    "        annot=True, \n",
    "        fmt=\".3f\", \n",
    "        linewidths=.75, \n",
    "        square = True, \n",
    "        cmap = \"Blues_r\",\n",
    "        xticklabels=[\"Benign\", \"Malignant\"],\n",
    "        yticklabels=[\"Benign\", \"Malignant\"]\n",
    "    )\n",
    "    plt.ylabel(\"Actual classification\")\n",
    "    plt.xlabel(\"Predicted predicted\")\n",
    "    plt.title(title, size = 15)"
   ]
  },
  {
   "cell_type": "code",
   "execution_count": 26,
   "metadata": {},
   "outputs": [
    {
     "data": {
      "image/png": "[encoded data removed]",
      "text/plain": [
       "<Figure size 360x360 with 2 Axes>"
      ]
     },
     "metadata": {
      "needs_background": "light"
     },
     "output_type": "display_data"
    }
   ],
   "source": [
    "visualiseConfusionMatrix(confusionMatrix, \"Melanoma Classification\")"
   ]
  },
  {
   "cell_type": "code",
   "execution_count": 27,
   "metadata": {},
   "outputs": [
    {
     "data": {
      "text/plain": [
       "array([[72, 45],\n",
       "       [36, 81]], dtype=int64)"
      ]
     },
     "execution_count": 27,
     "metadata": {},
     "output_type": "execute_result"
    }
   ],
   "source": [
    "confusionMatrix"
   ]
  },
  {
   "cell_type": "markdown",
   "metadata": {},
   "source": [
    "A positive in this experiment is a sample being classified as benign. So a false positive is a case being classified by our model as being benign when it was actually malignant."
   ]
  },
  {
   "cell_type": "code",
   "execution_count": 28,
   "metadata": {},
   "outputs": [
    {
     "name": "stdout",
     "output_type": "stream",
     "text": [
      "FPR: 30.77%\n"
     ]
    }
   ],
   "source": [
    "fpr = confusionMatrix[1][0] / (confusionMatrix[1][0] + confusionMatrix[1][1])\n",
    "print(f\"FPR: {round(fpr*100, 2)}%\")"
   ]
  },
  {
   "cell_type": "code",
   "execution_count": 29,
   "metadata": {},
   "outputs": [
    {
     "name": "stdout",
     "output_type": "stream",
     "text": [
      "Test accuracy: 65.38%\n"
     ]
    }
   ],
   "source": [
    "test_accuracy = (confusionMatrix[0][0] + confusionMatrix[1][1]) / (confusionMatrix[0][0] + confusionMatrix[0][1] + confusionMatrix[1][0] + confusionMatrix[1][1])\n",
    "print(f\"Test accuracy: {round(test_accuracy*100, 2)}%\")"
   ]
  }
 ],
 "metadata": {
  "kernelspec": {
   "display_name": "Python 3",
   "language": "python",
   "name": "python3"
  },
  "language_info": {
   "codemirror_mode": {
    "name": "ipython",
    "version": 3
   },
   "file_extension": ".py",
   "mimetype": "text/x-python",
   "name": "python",
   "nbconvert_exporter": "python",
   "pygments_lexer": "ipython3",
   "version": "3.8.3"
  }
 },
 "nbformat": 4,
 "nbformat_minor": 4
}
