{
 "cells": [
  {
   "cell_type": "markdown",
   "metadata": {},
   "source": [
    "# Experimenting with the NASnet CNN Architecture to classify melanoma images as Benign or Malignant\n",
    "\n",
    "This was developed using Juypter Notebooks on my local computer, not on Google Colab. This was because Google Drive could not handle the large number of files in the training and testing sets and was causing a lot of instability."
   ]
  },
  {
   "cell_type": "markdown",
   "metadata": {},
   "source": [
    "## Experiment 3\n",
    "- 50% dropout layer\n",
    "- Data augmentation\n",
    "    - Pixel rescale (pixel normalisation)\n",
    "    - rotation\n",
    "    - horizontal flip\n",
    "    - vertical flip\n",
    "    - brightness_range\n",
    "    - shear_range\n",
    "- Transfer learning using imagenet\n",
    "- Batch size 60\n",
    "- 200 epoches"
   ]
  },
  {
   "cell_type": "code",
   "execution_count": 27,
   "metadata": {},
   "outputs": [],
   "source": [
    "import pandas as pd\n",
    "import numpy as np\n",
    "import matplotlib.pyplot as plt\n",
    "from sklearn.metrics import confusion_matrix\n",
    "from sklearn.metrics import confusion_matrix\n",
    "import seaborn as sns\n",
    "\n",
    "import tensorflow as tf\n",
    "from tensorflow.keras.preprocessing.image import ImageDataGenerator\n",
    "from tensorflow.keras.callbacks import ModelCheckpoint\n",
    "from tensorflow.keras.applications import NASNetMobile\n",
    "from tensorflow.keras.models import load_model"
   ]
  },
  {
   "cell_type": "code",
   "execution_count": 15,
   "metadata": {},
   "outputs": [],
   "source": [
    "def plotAccAndVal(history):\n",
    "    acc = history.history['acc']\n",
    "    val_acc = history.history['val_acc']\n",
    "    loss = history.history['loss']\n",
    "    val_loss = history.history['val_loss']\n",
    "\n",
    "    epochs = range(len(acc))\n",
    "\n",
    "    plt.plot(epochs, acc, 'bo', label='Training accuracy')\n",
    "    plt.plot(epochs, val_acc, 'b', label='Validation accuracy')\n",
    "    plt.title('Training and validation accuracy')\n",
    "\n",
    "    plt.figure()\n",
    "\n",
    "    plt.plot(epochs, loss, 'bo', label='Training Loss')\n",
    "    plt.plot(epochs, val_loss, 'b', label='Validation Loss')\n",
    "    plt.title('Training and validation loss')\n",
    "    plt.legend()\n",
    "\n",
    "    plt.show()"
   ]
  },
  {
   "cell_type": "code",
   "execution_count": 7,
   "metadata": {},
   "outputs": [],
   "source": [
    "train_datagen = ImageDataGenerator(rescale=1./255)\n",
    "validation_datagen = ImageDataGenerator(rescale=1./255)\n",
    "test_datagen = ImageDataGenerator(rescale=1./255)"
   ]
  },
  {
   "cell_type": "code",
   "execution_count": 8,
   "metadata": {},
   "outputs": [],
   "source": [
    "batch_size = 100\n",
    "epochs = 50"
   ]
  },
  {
   "cell_type": "code",
   "execution_count": 10,
   "metadata": {},
   "outputs": [
    {
     "name": "stdout",
     "output_type": "stream",
     "text": [
      "Found 700 images belonging to 2 classes.\n"
     ]
    }
   ],
   "source": [
    "train_aug_datagen = ImageDataGenerator(\n",
    "    rescale=1./255,\n",
    "    rotation_range=360,\n",
    "    shear_range=0.2,\n",
    "    zoom_range=0.2,\n",
    "    horizontal_flip=True,\n",
    "    vertical_flip=True,\n",
    ")\n",
    "\n",
    "train_aug_generator = train_aug_datagen.flow_from_directory(\n",
    "        \"./train\",  # This is the source directory for training images\n",
    "        target_size=(224, 224),  # All images will be resized to 150x150\n",
    "        batch_size=batch_size,\n",
    "        # Since we use binary_crossentropy loss, we need binary labels\n",
    "        class_mode='binary'\n",
    ")"
   ]
  },
  {
   "cell_type": "code",
   "execution_count": 11,
   "metadata": {},
   "outputs": [
    {
     "name": "stdout",
     "output_type": "stream",
     "text": [
      "Found 234 images belonging to 2 classes.\n"
     ]
    }
   ],
   "source": [
    "validation_generator = validation_datagen.flow_from_directory(\n",
    "    \"./validation\",\n",
    "    target_size=(224, 224),\n",
    "    batch_size=batch_size,\n",
    "    class_mode=\"binary\"\n",
    ")"
   ]
  },
  {
   "cell_type": "code",
   "execution_count": 12,
   "metadata": {},
   "outputs": [
    {
     "name": "stdout",
     "output_type": "stream",
     "text": [
      "Found 234 images belonging to 2 classes.\n"
     ]
    }
   ],
   "source": [
    "test_generator = validation_datagen.flow_from_directory(\n",
    "    \"./test\",\n",
    "    target_size=(224, 224),\n",
    "    batch_size=batch_size,\n",
    "    class_mode=None,\n",
    "    shuffle=False\n",
    ")"
   ]
  },
  {
   "cell_type": "code",
   "execution_count": 19,
   "metadata": {},
   "outputs": [],
   "source": [
    "checkpoint_directory1 = \"./saved_models/experiment_3/max_val_acc/epoch-{epoch:02d}-val_acc-{val_acc:.2f}.hdf5\"\n",
    "checkpoint1 = ModelCheckpoint(checkpoint_directory1, monitor=\"val_acc\", verbose=1, save_best_only=\"max\")\n",
    "\n",
    "checkpoint_directory2 = \"./saved_models/experiment_3/min_val_loss/epoch-{epoch:02d}-val_loss-{val_loss:.2f}.hdf5\"\n",
    "checkpoint2 = ModelCheckpoint(checkpoint_directory2, monitor=\"val_loss\", verbose=1, save_best_only=\"min\")\n",
    "\n",
    "callbacks_list = [checkpoint1, checkpoint2]"
   ]
  },
  {
   "cell_type": "code",
   "execution_count": 20,
   "metadata": {},
   "outputs": [
    {
     "name": "stdout",
     "output_type": "stream",
     "text": [
      "Model: \"sequential_2\"\n",
      "_________________________________________________________________\n",
      "Layer (type)                 Output Shape              Param #   \n",
      "=================================================================\n",
      "NASNet (Functional)          (None, 1056)              4269716   \n",
      "_________________________________________________________________\n",
      "dropout_1 (Dropout)          (None, 1056)              0         \n",
      "_________________________________________________________________\n",
      "flatten_1 (Flatten)          (None, 1056)              0         \n",
      "_________________________________________________________________\n",
      "dense_3 (Dense)              (None, 224)               236768    \n",
      "_________________________________________________________________\n",
      "dense_4 (Dense)              (None, 224)               50400     \n",
      "_________________________________________________________________\n",
      "dense_5 (Dense)              (None, 1)                 225       \n",
      "=================================================================\n",
      "Total params: 4,557,109\n",
      "Trainable params: 4,520,371\n",
      "Non-trainable params: 36,738\n",
      "_________________________________________________________________\n"
     ]
    }
   ],
   "source": [
    "nas_net = NASNetMobile(\n",
    "    weights=\"imagenet\", \n",
    "    include_top=False, \n",
    "    input_shape=(224, 224, 3),\n",
    "    pooling=\"max\"\n",
    ")\n",
    "\n",
    "model_e3 = tf.keras.models.Sequential()\n",
    "model_e3.add(nas_net)\n",
    "model_e3.add(tf.keras.layers.Dropout(0.5))\n",
    "model_e3.add(tf.keras.layers.Flatten())\n",
    "model_e3.add(tf.keras.layers.Dense(units=224, activation='relu'))\n",
    "model_e3.add(tf.keras.layers.Dense(units=224, activation='relu'))\n",
    "model_e3.add(tf.keras.layers.Dense(units=1, activation='sigmoid'))\n",
    "\n",
    "model_e3.summary()\n",
    "\n",
    "model_e3.compile(\n",
    "    loss='binary_crossentropy',\n",
    "    optimizer=tf.keras.optimizers.Adam(lr=1e-4),\n",
    "    metrics=['acc']\n",
    ")"
   ]
  },
  {
   "cell_type": "code",
   "execution_count": 22,
   "metadata": {
    "scrolled": true
   },
   "outputs": [
    {
     "name": "stdout",
     "output_type": "stream",
     "text": [
      "Epoch 1/50\n",
      "7/7 - 90s - loss: 0.7892 - acc: 0.6100 - val_loss: 0.7766 - val_acc: 0.5940\n",
      "\n",
      "Epoch 00001: val_acc improved from 0.52137 to 0.59402, saving model to ./saved_models/experiment_3/max_val_acc\\epoch-01-val_acc-0.59.hdf5\n",
      "\n",
      "Epoch 00001: val_loss improved from 1.04468 to 0.77656, saving model to ./saved_models/experiment_3/min_val_loss\\epoch-01-val_loss-0.78.hdf5\n",
      "Epoch 2/50\n",
      "7/7 - 90s - loss: 0.6843 - acc: 0.6543 - val_loss: 0.8832 - val_acc: 0.5470\n",
      "\n",
      "Epoch 00002: val_acc did not improve from 0.59402\n",
      "\n",
      "Epoch 00002: val_loss did not improve from 0.77656\n",
      "Epoch 3/50\n",
      "7/7 - 90s - loss: 0.7222 - acc: 0.6557 - val_loss: 0.8200 - val_acc: 0.5556\n",
      "\n",
      "Epoch 00003: val_acc did not improve from 0.59402\n",
      "\n",
      "Epoch 00003: val_loss did not improve from 0.77656\n",
      "Epoch 4/50\n",
      "7/7 - 89s - loss: 0.6450 - acc: 0.6843 - val_loss: 0.7460 - val_acc: 0.6068\n",
      "\n",
      "Epoch 00004: val_acc improved from 0.59402 to 0.60684, saving model to ./saved_models/experiment_3/max_val_acc\\epoch-04-val_acc-0.61.hdf5\n",
      "\n",
      "Epoch 00004: val_loss improved from 0.77656 to 0.74599, saving model to ./saved_models/experiment_3/min_val_loss\\epoch-04-val_loss-0.75.hdf5\n",
      "Epoch 5/50\n",
      "7/7 - 90s - loss: 0.5908 - acc: 0.7271 - val_loss: 0.7263 - val_acc: 0.6154\n",
      "\n",
      "Epoch 00005: val_acc improved from 0.60684 to 0.61538, saving model to ./saved_models/experiment_3/max_val_acc\\epoch-05-val_acc-0.62.hdf5\n",
      "\n",
      "Epoch 00005: val_loss improved from 0.74599 to 0.72630, saving model to ./saved_models/experiment_3/min_val_loss\\epoch-05-val_loss-0.73.hdf5\n",
      "Epoch 6/50\n",
      "7/7 - 89s - loss: 0.6196 - acc: 0.7057 - val_loss: 0.7247 - val_acc: 0.6368\n",
      "\n",
      "Epoch 00006: val_acc improved from 0.61538 to 0.63675, saving model to ./saved_models/experiment_3/max_val_acc\\epoch-06-val_acc-0.64.hdf5\n",
      "\n",
      "Epoch 00006: val_loss improved from 0.72630 to 0.72469, saving model to ./saved_models/experiment_3/min_val_loss\\epoch-06-val_loss-0.72.hdf5\n",
      "Epoch 7/50\n",
      "7/7 - 90s - loss: 0.5572 - acc: 0.7400 - val_loss: 0.7232 - val_acc: 0.6325\n",
      "\n",
      "Epoch 00007: val_acc did not improve from 0.63675\n",
      "\n",
      "Epoch 00007: val_loss improved from 0.72469 to 0.72322, saving model to ./saved_models/experiment_3/min_val_loss\\epoch-07-val_loss-0.72.hdf5\n",
      "Epoch 8/50\n",
      "7/7 - 90s - loss: 0.5408 - acc: 0.7514 - val_loss: 0.7074 - val_acc: 0.6581\n",
      "\n",
      "Epoch 00008: val_acc improved from 0.63675 to 0.65812, saving model to ./saved_models/experiment_3/max_val_acc\\epoch-08-val_acc-0.66.hdf5\n",
      "\n",
      "Epoch 00008: val_loss improved from 0.72322 to 0.70743, saving model to ./saved_models/experiment_3/min_val_loss\\epoch-08-val_loss-0.71.hdf5\n",
      "Epoch 9/50\n",
      "7/7 - 90s - loss: 0.5115 - acc: 0.7529 - val_loss: 0.6835 - val_acc: 0.6624\n",
      "\n",
      "Epoch 00009: val_acc improved from 0.65812 to 0.66239, saving model to ./saved_models/experiment_3/max_val_acc\\epoch-09-val_acc-0.66.hdf5\n",
      "\n",
      "Epoch 00009: val_loss improved from 0.70743 to 0.68348, saving model to ./saved_models/experiment_3/min_val_loss\\epoch-09-val_loss-0.68.hdf5\n",
      "Epoch 10/50\n",
      "7/7 - 90s - loss: 0.5089 - acc: 0.7471 - val_loss: 0.6559 - val_acc: 0.6880\n",
      "\n",
      "Epoch 00010: val_acc improved from 0.66239 to 0.68803, saving model to ./saved_models/experiment_3/max_val_acc\\epoch-10-val_acc-0.69.hdf5\n",
      "\n",
      "Epoch 00010: val_loss improved from 0.68348 to 0.65589, saving model to ./saved_models/experiment_3/min_val_loss\\epoch-10-val_loss-0.66.hdf5\n",
      "Epoch 11/50\n",
      "7/7 - 90s - loss: 0.4912 - acc: 0.7786 - val_loss: 0.6469 - val_acc: 0.6966\n",
      "\n",
      "Epoch 00011: val_acc improved from 0.68803 to 0.69658, saving model to ./saved_models/experiment_3/max_val_acc\\epoch-11-val_acc-0.70.hdf5\n",
      "\n",
      "Epoch 00011: val_loss improved from 0.65589 to 0.64689, saving model to ./saved_models/experiment_3/min_val_loss\\epoch-11-val_loss-0.65.hdf5\n",
      "Epoch 12/50\n",
      "7/7 - 90s - loss: 0.4519 - acc: 0.7900 - val_loss: 0.6565 - val_acc: 0.6880\n",
      "\n",
      "Epoch 00012: val_acc did not improve from 0.69658\n",
      "\n",
      "Epoch 00012: val_loss did not improve from 0.64689\n",
      "Epoch 13/50\n",
      "7/7 - 91s - loss: 0.4709 - acc: 0.7843 - val_loss: 0.6571 - val_acc: 0.6923\n",
      "\n",
      "Epoch 00013: val_acc did not improve from 0.69658\n",
      "\n",
      "Epoch 00013: val_loss did not improve from 0.64689\n",
      "Epoch 14/50\n",
      "7/7 - 90s - loss: 0.4464 - acc: 0.7986 - val_loss: 0.6464 - val_acc: 0.6923\n",
      "\n",
      "Epoch 00014: val_acc did not improve from 0.69658\n",
      "\n",
      "Epoch 00014: val_loss improved from 0.64689 to 0.64643, saving model to ./saved_models/experiment_3/min_val_loss\\epoch-14-val_loss-0.65.hdf5\n",
      "Epoch 15/50\n",
      "7/7 - 91s - loss: 0.4062 - acc: 0.8129 - val_loss: 0.6509 - val_acc: 0.6709\n",
      "\n",
      "Epoch 00015: val_acc did not improve from 0.69658\n",
      "\n",
      "Epoch 00015: val_loss did not improve from 0.64643\n",
      "Epoch 16/50\n",
      "7/7 - 90s - loss: 0.4297 - acc: 0.8100 - val_loss: 0.6528 - val_acc: 0.6752\n",
      "\n",
      "Epoch 00016: val_acc did not improve from 0.69658\n",
      "\n",
      "Epoch 00016: val_loss did not improve from 0.64643\n",
      "Epoch 17/50\n",
      "7/7 - 90s - loss: 0.4147 - acc: 0.8071 - val_loss: 0.6529 - val_acc: 0.6581\n",
      "\n",
      "Epoch 00017: val_acc did not improve from 0.69658\n",
      "\n",
      "Epoch 00017: val_loss did not improve from 0.64643\n",
      "Epoch 18/50\n",
      "7/7 - 91s - loss: 0.4181 - acc: 0.8171 - val_loss: 0.6553 - val_acc: 0.6453\n",
      "\n",
      "Epoch 00018: val_acc did not improve from 0.69658\n",
      "\n",
      "Epoch 00018: val_loss did not improve from 0.64643\n",
      "Epoch 19/50\n",
      "7/7 - 90s - loss: 0.4136 - acc: 0.8114 - val_loss: 0.6572 - val_acc: 0.6410\n",
      "\n",
      "Epoch 00019: val_acc did not improve from 0.69658\n",
      "\n",
      "Epoch 00019: val_loss did not improve from 0.64643\n",
      "Epoch 20/50\n",
      "7/7 - 91s - loss: 0.4280 - acc: 0.8129 - val_loss: 0.6532 - val_acc: 0.6453\n",
      "\n",
      "Epoch 00020: val_acc did not improve from 0.69658\n",
      "\n",
      "Epoch 00020: val_loss did not improve from 0.64643\n",
      "Epoch 21/50\n",
      "7/7 - 90s - loss: 0.3818 - acc: 0.8300 - val_loss: 0.6531 - val_acc: 0.6325\n",
      "\n",
      "Epoch 00021: val_acc did not improve from 0.69658\n",
      "\n",
      "Epoch 00021: val_loss did not improve from 0.64643\n",
      "Epoch 22/50\n",
      "7/7 - 91s - loss: 0.3613 - acc: 0.8457 - val_loss: 0.6533 - val_acc: 0.6282\n",
      "\n",
      "Epoch 00022: val_acc did not improve from 0.69658\n",
      "\n",
      "Epoch 00022: val_loss did not improve from 0.64643\n",
      "Epoch 23/50\n",
      "7/7 - 90s - loss: 0.3929 - acc: 0.8386 - val_loss: 0.6560 - val_acc: 0.6111\n",
      "\n",
      "Epoch 00023: val_acc did not improve from 0.69658\n",
      "\n",
      "Epoch 00023: val_loss did not improve from 0.64643\n",
      "Epoch 24/50\n",
      "7/7 - 90s - loss: 0.3758 - acc: 0.8257 - val_loss: 0.6625 - val_acc: 0.6026\n",
      "\n",
      "Epoch 00024: val_acc did not improve from 0.69658\n",
      "\n",
      "Epoch 00024: val_loss did not improve from 0.64643\n",
      "Epoch 25/50\n",
      "7/7 - 91s - loss: 0.3759 - acc: 0.8329 - val_loss: 0.6702 - val_acc: 0.5940\n",
      "\n",
      "Epoch 00025: val_acc did not improve from 0.69658\n",
      "\n",
      "Epoch 00025: val_loss did not improve from 0.64643\n",
      "Epoch 26/50\n",
      "7/7 - 91s - loss: 0.3500 - acc: 0.8529 - val_loss: 0.6821 - val_acc: 0.5855\n",
      "\n",
      "Epoch 00026: val_acc did not improve from 0.69658\n",
      "\n",
      "Epoch 00026: val_loss did not improve from 0.64643\n",
      "Epoch 27/50\n",
      "7/7 - 91s - loss: 0.3249 - acc: 0.8529 - val_loss: 0.6930 - val_acc: 0.6068\n",
      "\n",
      "Epoch 00027: val_acc did not improve from 0.69658\n",
      "\n",
      "Epoch 00027: val_loss did not improve from 0.64643\n",
      "Epoch 28/50\n",
      "7/7 - 90s - loss: 0.3360 - acc: 0.8543 - val_loss: 0.6869 - val_acc: 0.5983\n",
      "\n",
      "Epoch 00028: val_acc did not improve from 0.69658\n",
      "\n",
      "Epoch 00028: val_loss did not improve from 0.64643\n",
      "Epoch 29/50\n",
      "7/7 - 90s - loss: 0.3149 - acc: 0.8671 - val_loss: 0.6934 - val_acc: 0.5940\n",
      "\n",
      "Epoch 00029: val_acc did not improve from 0.69658\n",
      "\n",
      "Epoch 00029: val_loss did not improve from 0.64643\n",
      "Epoch 30/50\n",
      "7/7 - 90s - loss: 0.3057 - acc: 0.8700 - val_loss: 0.7091 - val_acc: 0.6026\n",
      "\n",
      "Epoch 00030: val_acc did not improve from 0.69658\n",
      "\n",
      "Epoch 00030: val_loss did not improve from 0.64643\n",
      "Epoch 31/50\n",
      "7/7 - 90s - loss: 0.3228 - acc: 0.8614 - val_loss: 0.7179 - val_acc: 0.6026\n",
      "\n",
      "Epoch 00031: val_acc did not improve from 0.69658\n",
      "\n",
      "Epoch 00031: val_loss did not improve from 0.64643\n",
      "Epoch 32/50\n",
      "7/7 - 90s - loss: 0.2899 - acc: 0.8857 - val_loss: 0.7311 - val_acc: 0.5940\n",
      "\n",
      "Epoch 00032: val_acc did not improve from 0.69658\n",
      "\n",
      "Epoch 00032: val_loss did not improve from 0.64643\n",
      "Epoch 33/50\n",
      "7/7 - 90s - loss: 0.2839 - acc: 0.8700 - val_loss: 0.7339 - val_acc: 0.5983\n",
      "\n",
      "Epoch 00033: val_acc did not improve from 0.69658\n",
      "\n",
      "Epoch 00033: val_loss did not improve from 0.64643\n",
      "Epoch 34/50\n",
      "7/7 - 90s - loss: 0.2741 - acc: 0.8886 - val_loss: 0.7485 - val_acc: 0.6154\n",
      "\n",
      "Epoch 00034: val_acc did not improve from 0.69658\n",
      "\n",
      "Epoch 00034: val_loss did not improve from 0.64643\n",
      "Epoch 35/50\n",
      "7/7 - 90s - loss: 0.3004 - acc: 0.8586 - val_loss: 0.7847 - val_acc: 0.5769\n",
      "\n",
      "Epoch 00035: val_acc did not improve from 0.69658\n",
      "\n",
      "Epoch 00035: val_loss did not improve from 0.64643\n",
      "Epoch 36/50\n"
     ]
    },
    {
     "name": "stdout",
     "output_type": "stream",
     "text": [
      "7/7 - 90s - loss: 0.2598 - acc: 0.8886 - val_loss: 0.7979 - val_acc: 0.5726\n",
      "\n",
      "Epoch 00036: val_acc did not improve from 0.69658\n",
      "\n",
      "Epoch 00036: val_loss did not improve from 0.64643\n",
      "Epoch 37/50\n",
      "7/7 - 90s - loss: 0.2814 - acc: 0.8643 - val_loss: 0.7885 - val_acc: 0.5769\n",
      "\n",
      "Epoch 00037: val_acc did not improve from 0.69658\n",
      "\n",
      "Epoch 00037: val_loss did not improve from 0.64643\n",
      "Epoch 38/50\n",
      "7/7 - 90s - loss: 0.2531 - acc: 0.8886 - val_loss: 0.8029 - val_acc: 0.5641\n",
      "\n",
      "Epoch 00038: val_acc did not improve from 0.69658\n",
      "\n",
      "Epoch 00038: val_loss did not improve from 0.64643\n",
      "Epoch 39/50\n",
      "7/7 - 91s - loss: 0.2592 - acc: 0.8900 - val_loss: 0.8495 - val_acc: 0.5598\n",
      "\n",
      "Epoch 00039: val_acc did not improve from 0.69658\n",
      "\n",
      "Epoch 00039: val_loss did not improve from 0.64643\n",
      "Epoch 40/50\n",
      "7/7 - 90s - loss: 0.2134 - acc: 0.9129 - val_loss: 0.8876 - val_acc: 0.5556\n",
      "\n",
      "Epoch 00040: val_acc did not improve from 0.69658\n",
      "\n",
      "Epoch 00040: val_loss did not improve from 0.64643\n",
      "Epoch 41/50\n",
      "7/7 - 90s - loss: 0.2254 - acc: 0.9029 - val_loss: 0.9028 - val_acc: 0.5556\n",
      "\n",
      "Epoch 00041: val_acc did not improve from 0.69658\n",
      "\n",
      "Epoch 00041: val_loss did not improve from 0.64643\n",
      "Epoch 42/50\n",
      "7/7 - 89s - loss: 0.2283 - acc: 0.9043 - val_loss: 0.8997 - val_acc: 0.5556\n",
      "\n",
      "Epoch 00042: val_acc did not improve from 0.69658\n",
      "\n",
      "Epoch 00042: val_loss did not improve from 0.64643\n",
      "Epoch 43/50\n",
      "7/7 - 90s - loss: 0.1715 - acc: 0.9314 - val_loss: 0.9323 - val_acc: 0.5641\n",
      "\n",
      "Epoch 00043: val_acc did not improve from 0.69658\n",
      "\n",
      "Epoch 00043: val_loss did not improve from 0.64643\n",
      "Epoch 44/50\n",
      "7/7 - 90s - loss: 0.1896 - acc: 0.9243 - val_loss: 0.9308 - val_acc: 0.5598\n",
      "\n",
      "Epoch 00044: val_acc did not improve from 0.69658\n",
      "\n",
      "Epoch 00044: val_loss did not improve from 0.64643\n",
      "Epoch 45/50\n",
      "7/7 - 90s - loss: 0.1699 - acc: 0.9343 - val_loss: 0.9365 - val_acc: 0.5598\n",
      "\n",
      "Epoch 00045: val_acc did not improve from 0.69658\n",
      "\n",
      "Epoch 00045: val_loss did not improve from 0.64643\n",
      "Epoch 46/50\n",
      "7/7 - 90s - loss: 0.1801 - acc: 0.9214 - val_loss: 0.9661 - val_acc: 0.5641\n",
      "\n",
      "Epoch 00046: val_acc did not improve from 0.69658\n",
      "\n",
      "Epoch 00046: val_loss did not improve from 0.64643\n",
      "Epoch 47/50\n",
      "7/7 - 90s - loss: 0.1645 - acc: 0.9357 - val_loss: 1.0023 - val_acc: 0.5641\n",
      "\n",
      "Epoch 00047: val_acc did not improve from 0.69658\n",
      "\n",
      "Epoch 00047: val_loss did not improve from 0.64643\n",
      "Epoch 48/50\n",
      "7/7 - 90s - loss: 0.1621 - acc: 0.9300 - val_loss: 1.0020 - val_acc: 0.5684\n",
      "\n",
      "Epoch 00048: val_acc did not improve from 0.69658\n",
      "\n",
      "Epoch 00048: val_loss did not improve from 0.64643\n",
      "Epoch 49/50\n",
      "7/7 - 90s - loss: 0.1415 - acc: 0.9443 - val_loss: 1.0448 - val_acc: 0.5684\n",
      "\n",
      "Epoch 00049: val_acc did not improve from 0.69658\n",
      "\n",
      "Epoch 00049: val_loss did not improve from 0.64643\n",
      "Epoch 50/50\n",
      "7/7 - 90s - loss: 0.1448 - acc: 0.9471 - val_loss: 1.0600 - val_acc: 0.5769\n",
      "\n",
      "Epoch 00050: val_acc did not improve from 0.69658\n",
      "\n",
      "Epoch 00050: val_loss did not improve from 0.64643\n"
     ]
    }
   ],
   "source": [
    "experiment3 = model_e3.fit(\n",
    "    train_aug_generator,\n",
    "    validation_data=validation_generator,\n",
    "    epochs=epochs,\n",
    "    verbose=2,\n",
    "    callbacks=callbacks_list\n",
    ")"
   ]
  },
  {
   "cell_type": "code",
   "execution_count": 23,
   "metadata": {},
   "outputs": [
    {
     "data": {
      "image/png": "[encoded data removed]",
      "text/plain": [
       "<Figure size 432x288 with 1 Axes>"
      ]
     },
     "metadata": {
      "needs_background": "light"
     },
     "output_type": "display_data"
    },
    {
     "data": {
      "image/png": "[encoded data removed]",
      "text/plain": [
       "<Figure size 432x288 with 1 Axes>"
      ]
     },
     "metadata": {
      "needs_background": "light"
     },
     "output_type": "display_data"
    }
   ],
   "source": [
    "plotAccAndVal(experiment3)"
   ]
  },
  {
   "cell_type": "code",
   "execution_count": 33,
   "metadata": {},
   "outputs": [],
   "source": [
    "probabilities = model_e3.predict(test_generator, 234)"
   ]
  },
  {
   "cell_type": "code",
   "execution_count": 66,
   "metadata": {},
   "outputs": [],
   "source": [
    "y_true = np.array([0] * 117 + [1] * 117)\n",
    "y_pred = probabilities > 0.5\n",
    "\n",
    "confusionMatrix = confusion_matrix(y_true, y_pred)"
   ]
  },
  {
   "cell_type": "code",
   "execution_count": 67,
   "metadata": {},
   "outputs": [],
   "source": [
    "def visualiseConfusionMatrix(confusionMatrix, title):\n",
    "    plt.figure(figsize=(5, 5))\n",
    "    sns.heatmap(\n",
    "        confusionMatrix, \n",
    "        annot=True, \n",
    "        fmt=\".3f\", \n",
    "        linewidths=.75, \n",
    "        square = True, \n",
    "        cmap = \"Blues_r\",\n",
    "        xticklabels=[\"Benign\", \"Malignant\"],\n",
    "        yticklabels=[\"Benign\", \"Malignant\"]\n",
    "    )\n",
    "    plt.ylabel(\"Actual classification\")\n",
    "    plt.xlabel(\"Predicted predicted\")\n",
    "    plt.title(title, size = 15)"
   ]
  },
  {
   "cell_type": "code",
   "execution_count": 68,
   "metadata": {},
   "outputs": [
    {
     "data": {
      "image/png": "[encoded data removed]",
      "text/plain": [
       "<Figure size 360x360 with 2 Axes>"
      ]
     },
     "metadata": {
      "needs_background": "light"
     },
     "output_type": "display_data"
    }
   ],
   "source": [
    "visualiseConfusionMatrix(confusionMatrix, \"Melanoma Classification\")"
   ]
  },
  {
   "cell_type": "code",
   "execution_count": 70,
   "metadata": {},
   "outputs": [
    {
     "data": {
      "text/plain": [
       "array([[59, 58],\n",
       "       [34, 83]], dtype=int64)"
      ]
     },
     "execution_count": 70,
     "metadata": {},
     "output_type": "execute_result"
    }
   ],
   "source": [
    "confusionMatrix"
   ]
  },
  {
   "cell_type": "markdown",
   "metadata": {},
   "source": [
    "A positive in this experiment is a sample being classified as benign. So a false positive is a case being classified by our model as being benign when it was actually malignant."
   ]
  },
  {
   "cell_type": "code",
   "execution_count": 75,
   "metadata": {},
   "outputs": [
    {
     "name": "stdout",
     "output_type": "stream",
     "text": [
      "FPR: 29.06%\n"
     ]
    }
   ],
   "source": [
    "fpr = confusionMatrix[1][0] / (confusionMatrix[1][0] + confusionMatrix[1][1])\n",
    "print(f\"FPR: {round(fpr*100, 2)}%\")"
   ]
  },
  {
   "cell_type": "code",
   "execution_count": 80,
   "metadata": {},
   "outputs": [
    {
     "name": "stdout",
     "output_type": "stream",
     "text": [
      "Test accuracy: 60.68%\n"
     ]
    }
   ],
   "source": [
    "test_accuracy = (confusionMatrix[0][0] + confusionMatrix[1][1]) / (confusionMatrix[0][0] + confusionMatrix[0][1] + confusionMatrix[1][0] + confusionMatrix[1][1])\n",
    "print(f\"Test accuracy: {round(test_accuracy*100, 2)}%\")"
   ]
  }
 ],
 "metadata": {
  "kernelspec": {
   "display_name": "Python 3",
   "language": "python",
   "name": "python3"
  },
  "language_info": {
   "codemirror_mode": {
    "name": "ipython",
    "version": 3
   },
   "file_extension": ".py",
   "mimetype": "text/x-python",
   "name": "python",
   "nbconvert_exporter": "python",
   "pygments_lexer": "ipython3",
   "version": "3.8.3"
  }
 },
 "nbformat": 4,
 "nbformat_minor": 4
}
